{
 "cells": [
  {
   "cell_type": "markdown",
   "metadata": {},
   "source": [
    "## Initial setting"
   ]
  },
  {
   "cell_type": "code",
   "execution_count": 1,
   "metadata": {
    "pycharm": {
     "name": "#%%\n"
    }
   },
   "outputs": [],
   "source": [
    "epsilon_safemargin = 1e-6\n",
    "epsilon_sdptol = 1e-7"
   ]
  },
  {
   "cell_type": "code",
   "execution_count": 2,
   "metadata": {
    "pycharm": {
     "name": "#%%\n"
    }
   },
   "outputs": [],
   "source": [
    "from sympy import init_printing\n",
    "init_printing()"
   ]
  },
  {
   "cell_type": "markdown",
   "metadata": {},
   "source": [
    "### LMI Matrix Definitions"
   ]
  },
  {
   "cell_type": "code",
   "execution_count": 3,
   "metadata": {
    "pycharm": {
     "name": "#%%\n"
    }
   },
   "outputs": [],
   "source": [
    "import os\n",
    "import pickle\n",
    "import sympy\n",
    "import numpy\n",
    "import time\n",
    "import sympybotics\n",
    "import lmi_sdp\n",
    "\n",
    "from lmi_sdp import init_lmi_latex_printing\n",
    "init_lmi_latex_printing()"
   ]
  },
  {
   "cell_type": "code",
   "execution_count": 4,
   "metadata": {
    "pycharm": {
     "name": "#%%\n"
    }
   },
   "outputs": [],
   "source": [
    "n_beta = 24\n",
    "beta_symbs = sympy.Matrix([sympy.Symbol('beta'+str(i+1),real=True) for i in range(n_beta)])"
   ]
  },
  {
   "cell_type": "code",
   "execution_count": 5,
   "metadata": {
    "pycharm": {
     "name": "#%%\n"
    }
   },
   "outputs": [
    {
     "data": {
      "text/plain": "(24, 1)"
     },
     "execution_count": 5,
     "metadata": {},
     "output_type": "execute_result"
    }
   ],
   "source": [
    "beta_symbs.shape"
   ]
  },
  {
   "cell_type": "code",
   "execution_count": 6,
   "metadata": {
    "pycharm": {
     "name": "#%%\n"
    }
   },
   "outputs": [],
   "source": [
    "from support_funcs.utils import skew, mrepl\n",
    "from lmi_sdp import LMI_PD, LMI\n",
    "from sympy import BlockMatrix, Matrix, eye, Identity\n",
    "\n",
    "I = Identity\n",
    "S = skew"
   ]
  },
  {
   "cell_type": "markdown",
   "metadata": {},
   "source": [
    "## solve by LMI-SDP package [CVXOPT](http://cvxopt.org/)"
   ]
  },
  {
   "cell_type": "markdown",
   "metadata": {},
   "source": [
    "### Load data and solve beta"
   ]
  },
  {
   "cell_type": "code",
   "execution_count": 7,
   "metadata": {
    "pycharm": {
     "name": "#%%\n"
    }
   },
   "outputs": [],
   "source": [
    "import scipy.io as sio\n",
    "import numpy as np\n",
    "from lmi_sdp import LMI_NSD\n",
    "dataPath = 'M_Code/tmp_Data/'\n",
    "datafileName = 'calibInput.mat'\n",
    "data = sio.loadmat(dataPath+datafileName)"
   ]
  },
  {
   "cell_type": "code",
   "execution_count": 8,
   "metadata": {
    "pycharm": {
     "name": "#%%\n"
    }
   },
   "outputs": [],
   "source": [
    "rho1_ols = np.asmatrix(data['rho1'])\n",
    "rho2_ols = np.asmatrix(data['rho2'])\n",
    "R1_ols = np.asmatrix(data['R1'])\n",
    "rho2_norm_sqr_wls = np.linalg.norm(rho2_ols)**2"
   ]
  },
  {
   "cell_type": "markdown",
   "metadata": {},
   "source": [
    "## Feasible Parameter Estimation with Weight Least Squares (FPE-WLS)  ($\\beta^\\star$)"
   ]
  },
  {
   "cell_type": "code",
   "execution_count": 9,
   "metadata": {
    "pycharm": {
     "name": "#%%\n"
    }
   },
   "outputs": [],
   "source": [
    "u = sympy.Symbol('u')\n",
    "U_rho = BlockMatrix([[Matrix([u - rho2_norm_sqr_wls]),   (R1_ols*beta_symbs - rho1_ols).T],\n",
    "                             [R1_ols*beta_symbs - rho1_ols,                     I(n_beta)]])\n",
    "U_rho = U_rho.as_explicit()\n"
   ]
  },
  {
   "cell_type": "code",
   "execution_count": 10,
   "metadata": {
    "pycharm": {
     "name": "#%%\n"
    }
   },
   "outputs": [],
   "source": [
    "lmis_fbpe_ols = [LMI(U_rho)]"
   ]
  },
  {
   "cell_type": "code",
   "execution_count": 11,
   "metadata": {
    "pycharm": {
     "name": "#%%\n"
    }
   },
   "outputs": [],
   "source": [
    "variables_fbpe_ols = [u] + list(beta_symbs)"
   ]
  },
  {
   "cell_type": "code",
   "execution_count": 12,
   "metadata": {
    "pycharm": {
     "name": "#%%\n"
    }
   },
   "outputs": [],
   "source": [
    "objf_fbpe_ols = u"
   ]
  },
  {
   "cell_type": "code",
   "execution_count": 13,
   "metadata": {
    "pycharm": {
     "name": "#%%\n"
    }
   },
   "outputs": [
    {
     "name": "stdout",
     "output_type": "stream",
     "text": [
      "Optimal solution found.\n",
      "[ 1.13e+00]\n",
      "[ 7.49e-01]\n",
      "[-6.77e-01]\n",
      "[-1.17e-03]\n",
      "[ 6.77e-01]\n",
      "[ 7.44e-01]\n",
      "[-1.61e-02]\n",
      "[ 1.48e-02]\n",
      "[ 1.15e-02]\n",
      "[ 9.98e-01]\n",
      "[-9.19e-02]\n",
      "[-8.74e-01]\n",
      "[ 4.85e-01]\n",
      "[-1.01e+00]\n",
      "[ 8.35e-02]\n",
      "[-4.70e-02]\n",
      "[-3.09e-03]\n",
      "[-4.90e-01]\n",
      "[-8.71e-01]\n",
      "[ 5.94e+01]\n",
      "[-6.65e+01]\n",
      "[ 2.54e+01]\n",
      "[ 7.21e+02]\n",
      "[ 1.65e+01]\n",
      "[-2.17e+02]\n",
      "\n"
     ]
    }
   ],
   "source": [
    "from cvxopt import solvers\n",
    "from lmi_sdp import to_cvxopt\n",
    "\n",
    "# sol_fbpe_ols = solve_sdp(objf_fbpe_ols, lmis_fbpe_ols, variables_fbpe_ols)\n",
    "c, Gs, hs = to_cvxopt(objf_fbpe_ols, lmis_fbpe_ols, variables_fbpe_ols)\n",
    "sol = solvers.sdp(c, Gs=Gs, hs=hs)\n",
    "\n",
    "print(sol['x'])"
   ]
  },
  {
   "cell_type": "code",
   "execution_count": 14,
   "metadata": {
    "pycharm": {
     "name": "#%%\n"
    }
   },
   "outputs": [],
   "source": [
    "beta = np.matrix(sol['x'])\n",
    "error = beta[0]\n",
    "Rx = beta[1:10].reshape(3,3)\n",
    "tx = beta[19:22]\n",
    "Ry = beta[10:19].reshape(3,3)\n",
    "ty = beta[22:25]\n",
    "\n",
    "HTMx = np.vstack((np.hstack((Rx,tx)), np.matrix([0, 0, 0, 1])))\n",
    "HTMy = np.vstack((np.hstack((Ry,ty)), np.matrix([0, 0, 0, 1])))"
   ]
  },
  {
   "cell_type": "code",
   "execution_count": 15,
   "metadata": {
    "pycharm": {
     "name": "#%%\n"
    }
   },
   "outputs": [],
   "source": [
    "sio.savemat(dataPath+'solution.mat', {'err':error, 'Hx': HTMx, 'Hy': HTMy})\n"
   ]
  }
 ],
 "metadata": {
  "kernelspec": {
   "display_name": "Python 3 (ipykernel)",
   "language": "python",
   "name": "python3"
  },
  "language_info": {
   "codemirror_mode": {
    "name": "ipython",
    "version": 2
   },
   "file_extension": ".py",
   "mimetype": "text/x-python",
   "name": "python",
   "nbconvert_exporter": "python",
   "pygments_lexer": "ipython2",
   "version": "2.7.16"
  }
 },
 "nbformat": 4,
 "nbformat_minor": 1
}